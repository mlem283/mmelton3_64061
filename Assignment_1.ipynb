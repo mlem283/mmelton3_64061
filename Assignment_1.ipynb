{
  "nbformat": 4,
  "nbformat_minor": 0,
  "metadata": {
    "colab": {
      "provenance": [],
      "authorship_tag": "ABX9TyPIN0w954TmRrcL3nBuhS6I",
      "include_colab_link": true
    },
    "kernelspec": {
      "name": "python3",
      "display_name": "Python 3"
    },
    "language_info": {
      "name": "python"
    }
  },
  "cells": [
    {
      "cell_type": "markdown",
      "metadata": {
        "id": "view-in-github",
        "colab_type": "text"
      },
      "source": [
        "<a href=\"https://colab.research.google.com/github/mlem283/mmelton3_64061/blob/main/Assignment_1.ipynb\" target=\"_parent\"><img src=\"https://colab.research.google.com/assets/colab-badge.svg\" alt=\"Open In Colab\"/></a>"
      ]
    },
    {
      "cell_type": "markdown",
      "source": [
        "Setup"
      ],
      "metadata": {
        "id": "n70KwV1uj8SQ"
      }
    },
    {
      "cell_type": "code",
      "execution_count": 8,
      "metadata": {
        "colab": {
          "base_uri": "https://localhost:8080/"
        },
        "id": "XRK_xc9Wj2-9",
        "outputId": "7a6568b9-673b-4827-b696-86b42d5aa3ac"
      },
      "outputs": [
        {
          "output_type": "stream",
          "name": "stdout",
          "text": [
            "TensorFlow: 2.19.0\n"
          ]
        }
      ],
      "source": [
        "# Colab/TF/Keras basics\n",
        "import tensorflow as tf\n",
        "from tensorflow import keras\n",
        "from tensorflow.keras import layers\n",
        "import numpy as np\n",
        "import pandas as pd\n",
        "import matplotlib.pyplot as plt\n",
        "\n",
        "tf.random.set_seed(42)\n",
        "np.random.seed(42)\n",
        "\n",
        "print(\"TensorFlow:\", tf.__version__)\n"
      ]
    },
    {
      "cell_type": "markdown",
      "source": [
        "Load & preprocess IMDB"
      ],
      "metadata": {
        "id": "UGqgGNApkHrZ"
      }
    },
    {
      "cell_type": "code",
      "source": [
        "# Load IMDB dataset (top 10k words)\n",
        "(x_train, y_train), (x_test, y_test) = keras.datasets.imdb.load_data(num_words=10000)\n",
        "\n",
        "# One-hot encode reviews into 10,000-dim vectors\n",
        "def vectorize(sequences, dimension=10000):\n",
        "    results = np.zeros((len(sequences), dimension), dtype=\"float32\")\n",
        "    for i, seq in enumerate(sequences):\n",
        "        results[i, seq] = 1.0\n",
        "    return results\n",
        "\n",
        "x_train = vectorize(x_train)\n",
        "x_test  = vectorize(x_test)\n",
        "\n",
        "# Fixed validation holdout (10k) for fair comparison\n",
        "x_val = x_train[:10000]\n",
        "y_val = y_train[:10000]\n",
        "partial_x_train = x_train[10000:]\n",
        "partial_y_train = y_train[10000:]\n",
        "\n",
        "x_train.shape, x_val.shape, x_test.shape\n"
      ],
      "metadata": {
        "colab": {
          "base_uri": "https://localhost:8080/"
        },
        "id": "UYApeX9pkDKy",
        "outputId": "7e88c9de-297d-4c34-8e23-87f0b6ed2ebd"
      },
      "execution_count": 9,
      "outputs": [
        {
          "output_type": "execute_result",
          "data": {
            "text/plain": [
              "((25000, 10000), (10000, 10000), (25000, 10000))"
            ]
          },
          "metadata": {},
          "execution_count": 9
        }
      ]
    },
    {
      "cell_type": "markdown",
      "source": [
        "Model builder"
      ],
      "metadata": {
        "id": "ipSH2Z7okSAg"
      }
    },
    {
      "cell_type": "code",
      "source": [
        "def build_model(hidden_layers=2, units=16, activation=\"relu\", loss=\"binary_crossentropy\"):\n",
        "\n",
        "    model = keras.Sequential()\n",
        "    model.add(layers.Input(shape=(10000,)))\n",
        "    for _ in range(hidden_layers):\n",
        "        model.add(layers.Dense(units, activation=activation))\n",
        "    model.add(layers.Dense(1, activation=\"sigmoid\"))\n",
        "\n",
        "    model.compile(\n",
        "        optimizer=keras.optimizers.RMSprop(learning_rate=1e-3),\n",
        "        loss=loss,\n",
        "        metrics=[\"accuracy\", keras.metrics.AUC(name=\"auc\")]\n",
        "    )\n",
        "    return model\n"
      ],
      "metadata": {
        "id": "Lr75MFAVkU8A"
      },
      "execution_count": 10,
      "outputs": []
    },
    {
      "cell_type": "markdown",
      "source": [
        "Train + evaluate"
      ],
      "metadata": {
        "id": "D2UmhWcrkYHc"
      }
    },
    {
      "cell_type": "code",
      "source": [
        "def fit_and_eval(config, epochs=20, batch_size=512):\n",
        "\n",
        "    model = build_model(**config)\n",
        "    early = keras.callbacks.EarlyStopping(\n",
        "        monitor=\"val_loss\", patience=2, restore_best_weights=True\n",
        "    )\n",
        "\n",
        "    hist = model.fit(\n",
        "        partial_x_train, partial_y_train,\n",
        "        validation_data=(x_val, y_val),\n",
        "        epochs=epochs, batch_size=batch_size, verbose=0,\n",
        "        callbacks=[early]\n",
        "    )\n",
        "\n",
        "    # Pick best epoch by min val_loss\n",
        "    best_epoch = int(np.argmin(hist.history[\"val_loss\"])) + 1\n",
        "    best_val_acc = float(hist.history[\"val_accuracy\"][best_epoch - 1])\n",
        "    best_val_auc = float(hist.history[\"val_auc\"][best_epoch - 1])\n",
        "\n",
        "    test_loss, test_acc, test_auc = model.evaluate(x_test, y_test, verbose=0)\n",
        "\n",
        "    return {\n",
        "        **config,\n",
        "        \"best_epoch\": best_epoch,\n",
        "        \"best_val_acc\": best_val_acc,\n",
        "        \"best_val_auc\": best_val_auc,\n",
        "        \"test_acc\": float(test_acc),\n",
        "        \"test_auc\": float(test_auc),\n",
        "    }\n"
      ],
      "metadata": {
        "id": "ryHbSXBAkaoA"
      },
      "execution_count": 11,
      "outputs": []
    },
    {
      "cell_type": "markdown",
      "source": [
        "Experiment Grid"
      ],
      "metadata": {
        "id": "cb9NPEk7mHsX"
      }
    },
    {
      "cell_type": "code",
      "source": [
        "# Layers: 1, 2, 3\n",
        "# Units: 16, 32, 64, 128\n",
        "# Loss: binary_crossentropy vs mse\n",
        "# Activation: relu vs tanh\n",
        "\n",
        "layers_list = [1, 2, 3]\n",
        "units_list  = [16, 32, 64, 128]\n",
        "loss_list   = [\"binary_crossentropy\", \"mse\"]\n",
        "activations = [\"relu\", \"tanh\"]\n",
        "\n",
        "grid = [\n",
        "    {\"hidden_layers\": L, \"units\": U, \"activation\": A, \"loss\": loss}\n",
        "    for L in layers_list\n",
        "    for U in units_list\n",
        "    for A in activations\n",
        "    for loss in loss_list\n",
        "]\n",
        "\n",
        "print(\"Total configs:\", len(grid))  # should be 3 x 4 x 2 x 2 = 48\n"
      ],
      "metadata": {
        "colab": {
          "base_uri": "https://localhost:8080/"
        },
        "id": "ELJVQktBl49X",
        "outputId": "91b3316f-39ce-4a09-8d7e-9a7921b463c4"
      },
      "execution_count": 12,
      "outputs": [
        {
          "output_type": "stream",
          "name": "stdout",
          "text": [
            "Total configs: 48\n"
          ]
        }
      ]
    },
    {
      "cell_type": "markdown",
      "source": [
        "Run the experiments"
      ],
      "metadata": {
        "id": "lvBOkQITl-HG"
      }
    },
    {
      "cell_type": "code",
      "source": [
        "results = [fit_and_eval(cfg) for cfg in grid]\n",
        "df = pd.DataFrame(results)\n",
        "df[\"config\"] = df.apply(lambda r: f\"{int(r['hidden_layers'])}L-{int(r['units'])}U-{r['activation']}-{r['loss']}\", axis=1)\n",
        "\n",
        "# Sort for easy inspection\n",
        "df_sorted = df.sort_values([\"best_val_acc\", \"test_acc\"], ascending=False).reset_index(drop=True)\n",
        "\n",
        "# Save results\n",
        "df_sorted.to_csv(\"hparam_summary_full.csv\", index=False)\n",
        "display(df_sorted.head(10))\n",
        "print(\"Saved: hparam_summary_full.csv\")\n"
      ],
      "metadata": {
        "colab": {
          "base_uri": "https://localhost:8080/",
          "height": 380
        },
        "id": "BCimqmIimN5T",
        "outputId": "d8342dd2-aba0-4406-bef6-265056dcff44"
      },
      "execution_count": 13,
      "outputs": [
        {
          "output_type": "display_data",
          "data": {
            "text/plain": [
              "   hidden_layers  units activation                 loss  best_epoch  \\\n",
              "0              2     32       relu  binary_crossentropy           3   \n",
              "1              3     32       relu  binary_crossentropy           3   \n",
              "2              2    128       relu  binary_crossentropy           3   \n",
              "3              2    128       tanh  binary_crossentropy           2   \n",
              "4              2     64       tanh  binary_crossentropy           2   \n",
              "5              2     16       relu  binary_crossentropy           5   \n",
              "6              3     64       relu  binary_crossentropy           3   \n",
              "7              3     64       tanh  binary_crossentropy           2   \n",
              "8              1     64       tanh  binary_crossentropy           4   \n",
              "9              2     16       tanh                  mse           4   \n",
              "\n",
              "   best_val_acc  best_val_auc  test_acc  test_auc  \\\n",
              "0        0.8896      0.953736   0.88236  0.949638   \n",
              "1        0.8893      0.953537   0.88460  0.949392   \n",
              "2        0.8892      0.954328   0.88296  0.950607   \n",
              "3        0.8891      0.955571   0.88516  0.951136   \n",
              "4        0.8890      0.954075   0.88116  0.949982   \n",
              "5        0.8889      0.953792   0.88208  0.949449   \n",
              "6        0.8886      0.953798   0.88216  0.948518   \n",
              "7        0.8885      0.954041   0.88216  0.949801   \n",
              "8        0.8883      0.954836   0.88304  0.950337   \n",
              "9        0.8883      0.953676   0.88180  0.949299   \n",
              "\n",
              "                             config  \n",
              "0   2L-32U-relu-binary_crossentropy  \n",
              "1   3L-32U-relu-binary_crossentropy  \n",
              "2  2L-128U-relu-binary_crossentropy  \n",
              "3  2L-128U-tanh-binary_crossentropy  \n",
              "4   2L-64U-tanh-binary_crossentropy  \n",
              "5   2L-16U-relu-binary_crossentropy  \n",
              "6   3L-64U-relu-binary_crossentropy  \n",
              "7   3L-64U-tanh-binary_crossentropy  \n",
              "8   1L-64U-tanh-binary_crossentropy  \n",
              "9                   2L-16U-tanh-mse  "
            ],
            "text/html": [
              "\n",
              "  <div id=\"df-f55e0cbb-820a-46f7-abd5-07aa89188e34\" class=\"colab-df-container\">\n",
              "    <div>\n",
              "<style scoped>\n",
              "    .dataframe tbody tr th:only-of-type {\n",
              "        vertical-align: middle;\n",
              "    }\n",
              "\n",
              "    .dataframe tbody tr th {\n",
              "        vertical-align: top;\n",
              "    }\n",
              "\n",
              "    .dataframe thead th {\n",
              "        text-align: right;\n",
              "    }\n",
              "</style>\n",
              "<table border=\"1\" class=\"dataframe\">\n",
              "  <thead>\n",
              "    <tr style=\"text-align: right;\">\n",
              "      <th></th>\n",
              "      <th>hidden_layers</th>\n",
              "      <th>units</th>\n",
              "      <th>activation</th>\n",
              "      <th>loss</th>\n",
              "      <th>best_epoch</th>\n",
              "      <th>best_val_acc</th>\n",
              "      <th>best_val_auc</th>\n",
              "      <th>test_acc</th>\n",
              "      <th>test_auc</th>\n",
              "      <th>config</th>\n",
              "    </tr>\n",
              "  </thead>\n",
              "  <tbody>\n",
              "    <tr>\n",
              "      <th>0</th>\n",
              "      <td>2</td>\n",
              "      <td>32</td>\n",
              "      <td>relu</td>\n",
              "      <td>binary_crossentropy</td>\n",
              "      <td>3</td>\n",
              "      <td>0.8896</td>\n",
              "      <td>0.953736</td>\n",
              "      <td>0.88236</td>\n",
              "      <td>0.949638</td>\n",
              "      <td>2L-32U-relu-binary_crossentropy</td>\n",
              "    </tr>\n",
              "    <tr>\n",
              "      <th>1</th>\n",
              "      <td>3</td>\n",
              "      <td>32</td>\n",
              "      <td>relu</td>\n",
              "      <td>binary_crossentropy</td>\n",
              "      <td>3</td>\n",
              "      <td>0.8893</td>\n",
              "      <td>0.953537</td>\n",
              "      <td>0.88460</td>\n",
              "      <td>0.949392</td>\n",
              "      <td>3L-32U-relu-binary_crossentropy</td>\n",
              "    </tr>\n",
              "    <tr>\n",
              "      <th>2</th>\n",
              "      <td>2</td>\n",
              "      <td>128</td>\n",
              "      <td>relu</td>\n",
              "      <td>binary_crossentropy</td>\n",
              "      <td>3</td>\n",
              "      <td>0.8892</td>\n",
              "      <td>0.954328</td>\n",
              "      <td>0.88296</td>\n",
              "      <td>0.950607</td>\n",
              "      <td>2L-128U-relu-binary_crossentropy</td>\n",
              "    </tr>\n",
              "    <tr>\n",
              "      <th>3</th>\n",
              "      <td>2</td>\n",
              "      <td>128</td>\n",
              "      <td>tanh</td>\n",
              "      <td>binary_crossentropy</td>\n",
              "      <td>2</td>\n",
              "      <td>0.8891</td>\n",
              "      <td>0.955571</td>\n",
              "      <td>0.88516</td>\n",
              "      <td>0.951136</td>\n",
              "      <td>2L-128U-tanh-binary_crossentropy</td>\n",
              "    </tr>\n",
              "    <tr>\n",
              "      <th>4</th>\n",
              "      <td>2</td>\n",
              "      <td>64</td>\n",
              "      <td>tanh</td>\n",
              "      <td>binary_crossentropy</td>\n",
              "      <td>2</td>\n",
              "      <td>0.8890</td>\n",
              "      <td>0.954075</td>\n",
              "      <td>0.88116</td>\n",
              "      <td>0.949982</td>\n",
              "      <td>2L-64U-tanh-binary_crossentropy</td>\n",
              "    </tr>\n",
              "    <tr>\n",
              "      <th>5</th>\n",
              "      <td>2</td>\n",
              "      <td>16</td>\n",
              "      <td>relu</td>\n",
              "      <td>binary_crossentropy</td>\n",
              "      <td>5</td>\n",
              "      <td>0.8889</td>\n",
              "      <td>0.953792</td>\n",
              "      <td>0.88208</td>\n",
              "      <td>0.949449</td>\n",
              "      <td>2L-16U-relu-binary_crossentropy</td>\n",
              "    </tr>\n",
              "    <tr>\n",
              "      <th>6</th>\n",
              "      <td>3</td>\n",
              "      <td>64</td>\n",
              "      <td>relu</td>\n",
              "      <td>binary_crossentropy</td>\n",
              "      <td>3</td>\n",
              "      <td>0.8886</td>\n",
              "      <td>0.953798</td>\n",
              "      <td>0.88216</td>\n",
              "      <td>0.948518</td>\n",
              "      <td>3L-64U-relu-binary_crossentropy</td>\n",
              "    </tr>\n",
              "    <tr>\n",
              "      <th>7</th>\n",
              "      <td>3</td>\n",
              "      <td>64</td>\n",
              "      <td>tanh</td>\n",
              "      <td>binary_crossentropy</td>\n",
              "      <td>2</td>\n",
              "      <td>0.8885</td>\n",
              "      <td>0.954041</td>\n",
              "      <td>0.88216</td>\n",
              "      <td>0.949801</td>\n",
              "      <td>3L-64U-tanh-binary_crossentropy</td>\n",
              "    </tr>\n",
              "    <tr>\n",
              "      <th>8</th>\n",
              "      <td>1</td>\n",
              "      <td>64</td>\n",
              "      <td>tanh</td>\n",
              "      <td>binary_crossentropy</td>\n",
              "      <td>4</td>\n",
              "      <td>0.8883</td>\n",
              "      <td>0.954836</td>\n",
              "      <td>0.88304</td>\n",
              "      <td>0.950337</td>\n",
              "      <td>1L-64U-tanh-binary_crossentropy</td>\n",
              "    </tr>\n",
              "    <tr>\n",
              "      <th>9</th>\n",
              "      <td>2</td>\n",
              "      <td>16</td>\n",
              "      <td>tanh</td>\n",
              "      <td>mse</td>\n",
              "      <td>4</td>\n",
              "      <td>0.8883</td>\n",
              "      <td>0.953676</td>\n",
              "      <td>0.88180</td>\n",
              "      <td>0.949299</td>\n",
              "      <td>2L-16U-tanh-mse</td>\n",
              "    </tr>\n",
              "  </tbody>\n",
              "</table>\n",
              "</div>\n",
              "    <div class=\"colab-df-buttons\">\n",
              "\n",
              "  <div class=\"colab-df-container\">\n",
              "    <button class=\"colab-df-convert\" onclick=\"convertToInteractive('df-f55e0cbb-820a-46f7-abd5-07aa89188e34')\"\n",
              "            title=\"Convert this dataframe to an interactive table.\"\n",
              "            style=\"display:none;\">\n",
              "\n",
              "  <svg xmlns=\"http://www.w3.org/2000/svg\" height=\"24px\" viewBox=\"0 -960 960 960\">\n",
              "    <path d=\"M120-120v-720h720v720H120Zm60-500h600v-160H180v160Zm220 220h160v-160H400v160Zm0 220h160v-160H400v160ZM180-400h160v-160H180v160Zm440 0h160v-160H620v160ZM180-180h160v-160H180v160Zm440 0h160v-160H620v160Z\"/>\n",
              "  </svg>\n",
              "    </button>\n",
              "\n",
              "  <style>\n",
              "    .colab-df-container {\n",
              "      display:flex;\n",
              "      gap: 12px;\n",
              "    }\n",
              "\n",
              "    .colab-df-convert {\n",
              "      background-color: #E8F0FE;\n",
              "      border: none;\n",
              "      border-radius: 50%;\n",
              "      cursor: pointer;\n",
              "      display: none;\n",
              "      fill: #1967D2;\n",
              "      height: 32px;\n",
              "      padding: 0 0 0 0;\n",
              "      width: 32px;\n",
              "    }\n",
              "\n",
              "    .colab-df-convert:hover {\n",
              "      background-color: #E2EBFA;\n",
              "      box-shadow: 0px 1px 2px rgba(60, 64, 67, 0.3), 0px 1px 3px 1px rgba(60, 64, 67, 0.15);\n",
              "      fill: #174EA6;\n",
              "    }\n",
              "\n",
              "    .colab-df-buttons div {\n",
              "      margin-bottom: 4px;\n",
              "    }\n",
              "\n",
              "    [theme=dark] .colab-df-convert {\n",
              "      background-color: #3B4455;\n",
              "      fill: #D2E3FC;\n",
              "    }\n",
              "\n",
              "    [theme=dark] .colab-df-convert:hover {\n",
              "      background-color: #434B5C;\n",
              "      box-shadow: 0px 1px 3px 1px rgba(0, 0, 0, 0.15);\n",
              "      filter: drop-shadow(0px 1px 2px rgba(0, 0, 0, 0.3));\n",
              "      fill: #FFFFFF;\n",
              "    }\n",
              "  </style>\n",
              "\n",
              "    <script>\n",
              "      const buttonEl =\n",
              "        document.querySelector('#df-f55e0cbb-820a-46f7-abd5-07aa89188e34 button.colab-df-convert');\n",
              "      buttonEl.style.display =\n",
              "        google.colab.kernel.accessAllowed ? 'block' : 'none';\n",
              "\n",
              "      async function convertToInteractive(key) {\n",
              "        const element = document.querySelector('#df-f55e0cbb-820a-46f7-abd5-07aa89188e34');\n",
              "        const dataTable =\n",
              "          await google.colab.kernel.invokeFunction('convertToInteractive',\n",
              "                                                    [key], {});\n",
              "        if (!dataTable) return;\n",
              "\n",
              "        const docLinkHtml = 'Like what you see? Visit the ' +\n",
              "          '<a target=\"_blank\" href=https://colab.research.google.com/notebooks/data_table.ipynb>data table notebook</a>'\n",
              "          + ' to learn more about interactive tables.';\n",
              "        element.innerHTML = '';\n",
              "        dataTable['output_type'] = 'display_data';\n",
              "        await google.colab.output.renderOutput(dataTable, element);\n",
              "        const docLink = document.createElement('div');\n",
              "        docLink.innerHTML = docLinkHtml;\n",
              "        element.appendChild(docLink);\n",
              "      }\n",
              "    </script>\n",
              "  </div>\n",
              "\n",
              "\n",
              "    <div id=\"df-68f85a5a-ec06-4668-8bdd-a8b6a790631a\">\n",
              "      <button class=\"colab-df-quickchart\" onclick=\"quickchart('df-68f85a5a-ec06-4668-8bdd-a8b6a790631a')\"\n",
              "                title=\"Suggest charts\"\n",
              "                style=\"display:none;\">\n",
              "\n",
              "<svg xmlns=\"http://www.w3.org/2000/svg\" height=\"24px\"viewBox=\"0 0 24 24\"\n",
              "     width=\"24px\">\n",
              "    <g>\n",
              "        <path d=\"M19 3H5c-1.1 0-2 .9-2 2v14c0 1.1.9 2 2 2h14c1.1 0 2-.9 2-2V5c0-1.1-.9-2-2-2zM9 17H7v-7h2v7zm4 0h-2V7h2v10zm4 0h-2v-4h2v4z\"/>\n",
              "    </g>\n",
              "</svg>\n",
              "      </button>\n",
              "\n",
              "<style>\n",
              "  .colab-df-quickchart {\n",
              "      --bg-color: #E8F0FE;\n",
              "      --fill-color: #1967D2;\n",
              "      --hover-bg-color: #E2EBFA;\n",
              "      --hover-fill-color: #174EA6;\n",
              "      --disabled-fill-color: #AAA;\n",
              "      --disabled-bg-color: #DDD;\n",
              "  }\n",
              "\n",
              "  [theme=dark] .colab-df-quickchart {\n",
              "      --bg-color: #3B4455;\n",
              "      --fill-color: #D2E3FC;\n",
              "      --hover-bg-color: #434B5C;\n",
              "      --hover-fill-color: #FFFFFF;\n",
              "      --disabled-bg-color: #3B4455;\n",
              "      --disabled-fill-color: #666;\n",
              "  }\n",
              "\n",
              "  .colab-df-quickchart {\n",
              "    background-color: var(--bg-color);\n",
              "    border: none;\n",
              "    border-radius: 50%;\n",
              "    cursor: pointer;\n",
              "    display: none;\n",
              "    fill: var(--fill-color);\n",
              "    height: 32px;\n",
              "    padding: 0;\n",
              "    width: 32px;\n",
              "  }\n",
              "\n",
              "  .colab-df-quickchart:hover {\n",
              "    background-color: var(--hover-bg-color);\n",
              "    box-shadow: 0 1px 2px rgba(60, 64, 67, 0.3), 0 1px 3px 1px rgba(60, 64, 67, 0.15);\n",
              "    fill: var(--button-hover-fill-color);\n",
              "  }\n",
              "\n",
              "  .colab-df-quickchart-complete:disabled,\n",
              "  .colab-df-quickchart-complete:disabled:hover {\n",
              "    background-color: var(--disabled-bg-color);\n",
              "    fill: var(--disabled-fill-color);\n",
              "    box-shadow: none;\n",
              "  }\n",
              "\n",
              "  .colab-df-spinner {\n",
              "    border: 2px solid var(--fill-color);\n",
              "    border-color: transparent;\n",
              "    border-bottom-color: var(--fill-color);\n",
              "    animation:\n",
              "      spin 1s steps(1) infinite;\n",
              "  }\n",
              "\n",
              "  @keyframes spin {\n",
              "    0% {\n",
              "      border-color: transparent;\n",
              "      border-bottom-color: var(--fill-color);\n",
              "      border-left-color: var(--fill-color);\n",
              "    }\n",
              "    20% {\n",
              "      border-color: transparent;\n",
              "      border-left-color: var(--fill-color);\n",
              "      border-top-color: var(--fill-color);\n",
              "    }\n",
              "    30% {\n",
              "      border-color: transparent;\n",
              "      border-left-color: var(--fill-color);\n",
              "      border-top-color: var(--fill-color);\n",
              "      border-right-color: var(--fill-color);\n",
              "    }\n",
              "    40% {\n",
              "      border-color: transparent;\n",
              "      border-right-color: var(--fill-color);\n",
              "      border-top-color: var(--fill-color);\n",
              "    }\n",
              "    60% {\n",
              "      border-color: transparent;\n",
              "      border-right-color: var(--fill-color);\n",
              "    }\n",
              "    80% {\n",
              "      border-color: transparent;\n",
              "      border-right-color: var(--fill-color);\n",
              "      border-bottom-color: var(--fill-color);\n",
              "    }\n",
              "    90% {\n",
              "      border-color: transparent;\n",
              "      border-bottom-color: var(--fill-color);\n",
              "    }\n",
              "  }\n",
              "</style>\n",
              "\n",
              "      <script>\n",
              "        async function quickchart(key) {\n",
              "          const quickchartButtonEl =\n",
              "            document.querySelector('#' + key + ' button');\n",
              "          quickchartButtonEl.disabled = true;  // To prevent multiple clicks.\n",
              "          quickchartButtonEl.classList.add('colab-df-spinner');\n",
              "          try {\n",
              "            const charts = await google.colab.kernel.invokeFunction(\n",
              "                'suggestCharts', [key], {});\n",
              "          } catch (error) {\n",
              "            console.error('Error during call to suggestCharts:', error);\n",
              "          }\n",
              "          quickchartButtonEl.classList.remove('colab-df-spinner');\n",
              "          quickchartButtonEl.classList.add('colab-df-quickchart-complete');\n",
              "        }\n",
              "        (() => {\n",
              "          let quickchartButtonEl =\n",
              "            document.querySelector('#df-68f85a5a-ec06-4668-8bdd-a8b6a790631a button');\n",
              "          quickchartButtonEl.style.display =\n",
              "            google.colab.kernel.accessAllowed ? 'block' : 'none';\n",
              "        })();\n",
              "      </script>\n",
              "    </div>\n",
              "\n",
              "    </div>\n",
              "  </div>\n"
            ],
            "application/vnd.google.colaboratory.intrinsic+json": {
              "type": "dataframe",
              "summary": "{\n  \"name\": \"print(\\\"Saved: hparam_summary_full\",\n  \"rows\": 10,\n  \"fields\": [\n    {\n      \"column\": \"hidden_layers\",\n      \"properties\": {\n        \"dtype\": \"number\",\n        \"std\": 0,\n        \"min\": 1,\n        \"max\": 3,\n        \"num_unique_values\": 3,\n        \"samples\": [\n          2,\n          3,\n          1\n        ],\n        \"semantic_type\": \"\",\n        \"description\": \"\"\n      }\n    },\n    {\n      \"column\": \"units\",\n      \"properties\": {\n        \"dtype\": \"number\",\n        \"std\": 40,\n        \"min\": 16,\n        \"max\": 128,\n        \"num_unique_values\": 4,\n        \"samples\": [\n          128,\n          16,\n          32\n        ],\n        \"semantic_type\": \"\",\n        \"description\": \"\"\n      }\n    },\n    {\n      \"column\": \"activation\",\n      \"properties\": {\n        \"dtype\": \"category\",\n        \"num_unique_values\": 2,\n        \"samples\": [\n          \"tanh\",\n          \"relu\"\n        ],\n        \"semantic_type\": \"\",\n        \"description\": \"\"\n      }\n    },\n    {\n      \"column\": \"loss\",\n      \"properties\": {\n        \"dtype\": \"category\",\n        \"num_unique_values\": 2,\n        \"samples\": [\n          \"mse\",\n          \"binary_crossentropy\"\n        ],\n        \"semantic_type\": \"\",\n        \"description\": \"\"\n      }\n    },\n    {\n      \"column\": \"best_epoch\",\n      \"properties\": {\n        \"dtype\": \"number\",\n        \"std\": 0,\n        \"min\": 2,\n        \"max\": 5,\n        \"num_unique_values\": 4,\n        \"samples\": [\n          2,\n          4\n        ],\n        \"semantic_type\": \"\",\n        \"description\": \"\"\n      }\n    },\n    {\n      \"column\": \"best_val_acc\",\n      \"properties\": {\n        \"dtype\": \"number\",\n        \"std\": 0.00044170976653847894,\n        \"min\": 0.8883000016212463,\n        \"max\": 0.8895999789237976,\n        \"num_unique_values\": 9,\n        \"samples\": [\n          0.8884999752044678,\n          0.8892999887466431\n        ],\n        \"semantic_type\": \"\",\n        \"description\": \"\"\n      }\n    },\n    {\n      \"column\": \"best_val_auc\",\n      \"properties\": {\n        \"dtype\": \"number\",\n        \"std\": 0.000629059318375399,\n        \"min\": 0.9535367488861084,\n        \"max\": 0.9555706977844238,\n        \"num_unique_values\": 10,\n        \"samples\": [\n          0.9548358917236328,\n          0.9535367488861084\n        ],\n        \"semantic_type\": \"\",\n        \"description\": \"\"\n      }\n    },\n    {\n      \"column\": \"test_acc\",\n      \"properties\": {\n        \"dtype\": \"number\",\n        \"std\": 0.0012510691950274083,\n        \"min\": 0.8811600208282471,\n        \"max\": 0.8851600289344788,\n        \"num_unique_values\": 9,\n        \"samples\": [\n          0.8830400109291077,\n          0.8845999836921692\n        ],\n        \"semantic_type\": \"\",\n        \"description\": \"\"\n      }\n    },\n    {\n      \"column\": \"test_auc\",\n      \"properties\": {\n        \"dtype\": \"number\",\n        \"std\": 0.000742714896964705,\n        \"min\": 0.9485178589820862,\n        \"max\": 0.9511355757713318,\n        \"num_unique_values\": 10,\n        \"samples\": [\n          0.9503374695777893,\n          0.9493921995162964\n        ],\n        \"semantic_type\": \"\",\n        \"description\": \"\"\n      }\n    },\n    {\n      \"column\": \"config\",\n      \"properties\": {\n        \"dtype\": \"string\",\n        \"num_unique_values\": 10,\n        \"samples\": [\n          \"1L-64U-tanh-binary_crossentropy\",\n          \"3L-32U-relu-binary_crossentropy\"\n        ],\n        \"semantic_type\": \"\",\n        \"description\": \"\"\n      }\n    }\n  ]\n}"
            }
          },
          "metadata": {}
        },
        {
          "output_type": "stream",
          "name": "stdout",
          "text": [
            "Saved: hparam_summary_full.csv\n"
          ]
        }
      ]
    },
    {
      "cell_type": "markdown",
      "source": [
        "Plot results"
      ],
      "metadata": {
        "id": "xJw3ViW0mUg_"
      }
    },
    {
      "cell_type": "code",
      "source": [
        "plt.figure(figsize=(10, 7))\n",
        "plt.scatter(df_sorted[\"best_val_acc\"], df_sorted[\"test_acc\"], alpha=0.7)\n",
        "\n",
        "for _, row in df_sorted.head(20).iterrows():  # annotate top 20\n",
        "    plt.text(row[\"best_val_acc\"], row[\"test_acc\"], row[\"config\"], fontsize=8)\n",
        "\n",
        "plt.xlabel(\"Best Validation Accuracy\")\n",
        "plt.ylabel(\"Test Accuracy\")\n",
        "plt.title(\"IMDB Experiments: Layers × Units × Activation × Loss\")\n",
        "plt.grid(True)\n",
        "plt.tight_layout()\n",
        "plt.savefig(\"submission_summary_full.png\", dpi=150)\n",
        "plt.show()\n",
        "\n",
        "print(\"Saved: submission_summary_full.png\")\n"
      ],
      "metadata": {
        "colab": {
          "base_uri": "https://localhost:8080/",
          "height": 724
        },
        "id": "3_CELF-MmWom",
        "outputId": "f97ed852-965a-4aca-d58e-faa01379cb14"
      },
      "execution_count": 14,
      "outputs": [
        {
          "output_type": "display_data",
          "data": {
            "text/plain": [
              "<Figure size 1000x700 with 1 Axes>"
            ],
            "image/png": "[encoded data removed]"
          },
          "metadata": {}
        },
        {
          "output_type": "stream",
          "name": "stdout",
          "text": [
            "Saved: submission_summary_full.png\n"
          ]
        }
      ]
    },
    {
      "cell_type": "markdown",
      "source": [
        "When I tested all of the different setups for my neural network, I noticed that the accuracy stayed pretty close no matter what, between about 88% and 89%. Even though the range was small, some patterns stood out. Using binary crossentropy gave me better results than using mean squared error, which makes sense because BCE is designed for yes/no problems like this. I also saw that ReLU worked better than tanh as the activation function, since ReLU helped the model learn more effectively. For the number of layers, two hidden layers gave me the best balance. With only one layer the model was too simple, and with three layers the extra complexity didn’t really help. Finally, when I looked at the number of units in each layer, I found that 32 to 64 units worked the best. Sixteen units were too small, and 128 units sometimes worked but were less reliable. Overall, the best model for me was a simple two-layer network with 32–64 units per layer, ReLU activation, and binary crossentropy loss."
      ],
      "metadata": {
        "id": "mZIx84W0tjL4"
      }
    }
  ]
}